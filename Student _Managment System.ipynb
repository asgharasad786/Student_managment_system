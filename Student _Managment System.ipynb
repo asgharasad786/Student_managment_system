{
 "cells": [
  {
   "cell_type": "code",
   "execution_count": null,
   "id": "2aee9fa7-b416-4289-a856-841bc1b8171f",
   "metadata": {
    "tags": []
   },
   "outputs": [
    {
     "name": "stdout",
     "output_type": "stream",
     "text": [
      "\n",
      "\t\t\t\t\tWelcome to Management System:\n",
      "\n",
      "Please Select option to perform task:\n",
      "1.Show Menu\n",
      "2.Exit\n"
     ]
    },
    {
     "name": "stdin",
     "output_type": "stream",
     "text": [
      "\n",
      "Enter your choice:  1\n"
     ]
    },
    {
     "name": "stdout",
     "output_type": "stream",
     "text": [
      "1. Add info\n",
      "2. Update info\n",
      "3. Delete\n",
      "4. All info\n"
     ]
    },
    {
     "name": "stdin",
     "output_type": "stream",
     "text": [
      "\n",
      "please Enter your choice from 1 to 4:  1\n",
      "Enter the name:  Asghar\n",
      "Enter the age:  12\n",
      "Enter the phone number:  1234\n"
     ]
    },
    {
     "name": "stdout",
     "output_type": "stream",
     "text": [
      "\n",
      "Successfully Added!\n",
      "[['muntazir', 20, 304], ['ali', 18, 341], ['asad', 22, 302], ['Asghar', 12, 1234]]\n",
      "\n",
      "Please Select option to perform task:\n",
      "1.Show Menu\n",
      "2.Exit\n"
     ]
    },
    {
     "name": "stdin",
     "output_type": "stream",
     "text": [
      "\n",
      "Enter your choice:  1\n"
     ]
    },
    {
     "name": "stdout",
     "output_type": "stream",
     "text": [
      "1. Add info\n",
      "2. Update info\n",
      "3. Delete\n",
      "4. All info\n"
     ]
    },
    {
     "name": "stdin",
     "output_type": "stream",
     "text": [
      "\n",
      "please Enter your choice from 1 to 4:  2\n"
     ]
    },
    {
     "name": "stdout",
     "output_type": "stream",
     "text": [
      "\n",
      "Enter the student data to check present in list or not:\n"
     ]
    },
    {
     "name": "stdin",
     "output_type": "stream",
     "text": [
      "Enter the name:  ali\n",
      "Enter the age:  18\n",
      "Enter the phone number:  341\n"
     ]
    },
    {
     "name": "stdout",
     "output_type": "stream",
     "text": [
      "['ali', 18, 341] is present in list \n",
      "\n",
      "What you want to update: \n",
      "1. update name\n",
      "2. update age\n",
      "3. update phone number\n",
      "4. update All\n"
     ]
    }
   ],
   "source": [
    "# simple menu-driven program for managing student information\n",
    "print(\"\\n\\t\\t\\t\\t\\tWelcome to Management System:\")\n",
    "while True:\n",
    "    print(\"\\nPlease Select option to perform task:\")\n",
    "    print(\"1.Show Menu\")\n",
    "    print(\"2.Exit\")\n",
    "\n",
    "    choose = int(input(\"\\nEnter your choice: \"))\n",
    "\n",
    "    if choose == 1:\n",
    "        while True:\n",
    "            print(\"1. Add info\")\n",
    "            print(\"2. Update info\")\n",
    "            print(\"3. Delete\")\n",
    "            print(\"4. All info\")\n",
    "            \n",
    "            s_list = [['muntazir', 20, 304], [\"ali\", 18, 341], [\"asad\", 22, 302]]\n",
    "            number = int(input(\"\\nplease Enter your choice from 1 to 4: \"))\n",
    "            \n",
    "            if number == 1:\n",
    "                name = input(\"Enter the name: \")\n",
    "                age = int(input(\"Enter the age: \"))\n",
    "                phone_no = int(input(\"Enter the phone number: \"))\n",
    "                s_info = [name, age, phone_no]\n",
    "                s_list.append(s_info)\n",
    "                print(\"\\nSuccessfully Added!\")\n",
    "                print(s_list)\n",
    "            \n",
    "            elif number == 2:\n",
    "                print(\"\\nEnter the student data to check present in list or not:\")\n",
    "                name = input(\"Enter the name: \")\n",
    "                age = int(input(\"Enter the age: \"))\n",
    "                p_no = int(input(\"Enter the phone number: \"))\n",
    "                update = [name, age, p_no]\n",
    "                index_no = s_list.index(update)\n",
    "                print(update, \"is present in list \") \n",
    "                print(\"\\nWhat you want to update: \")\n",
    "                print(\"1. update name\")\n",
    "                print(\"2. update age\")\n",
    "                print(\"3. update phone number\")\n",
    "                print(\"4. update All\")\n",
    "                check = int(input(\"Enter your choice: \"))\n",
    "            \n",
    "                if check == 1:\n",
    "                    name1 = input(\"Enter new name:\")\n",
    "                    s_list[index_no][0] = name1\n",
    "                    print(s_list)\n",
    "                elif check == 2:\n",
    "                    age1 = int(input(\"Enter new age:\"))\n",
    "                    s_list[index_no][1] = age1\n",
    "                    print(s_list)\n",
    "                elif check == 3:\n",
    "                    p_no1 = input(\"Enter new number:\")\n",
    "                    s_list[index_no][2] = p_no1\n",
    "                    print(s_list)\n",
    "                elif check == 4:\n",
    "                    print(\"\\nEnter new student info:\")\n",
    "                    name_2 = input(\"Enter the name: \")\n",
    "                    age_2 = int(input(\"Enter the age: \"))\n",
    "                    p_no_2 = int(input(\"Enter the phone number: \"))\n",
    "                    update1 = [name_2, age_2, p_no_2]\n",
    "                    s_list[index_no] = update1\n",
    "                    print(s_list)\n",
    "                else:\n",
    "                    print(\"\\nInvalid entry\")\n",
    "          \n",
    "            elif number == 3:\n",
    "                print(\"\\nEnter the student data to delete:\")\n",
    "                name = input(\"Enter the name: \")\n",
    "                age = int(input(\"Enter the age: \"))\n",
    "                p_no = int(input(\"Enter the phone number: \"))\n",
    "                delete = [name, age, p_no]\n",
    "                if delete in s_list:\n",
    "                \n",
    "                    print(delete, \"is present in list\") \n",
    "                    print(\"\\nWhat you want to delete:\")\n",
    "                    print(\"1. delete name\")\n",
    "                    print(\"2. delete age\")\n",
    "                    print(\"3. delete phone number\")\n",
    "                    print(\"4. delete All\")\n",
    "                    check = int(input(\"Enter your choice: \"))\n",
    "                    index_no = s_list.index(delete)\n",
    "\n",
    "                    if check == 1:\n",
    "                        s_list[index_no].remove(name)\n",
    "                        print(s_list)\n",
    "                    elif check == 2:\n",
    "                        s_list[index_no].remove(age)\n",
    "                        print(s_list)\n",
    "                    elif check == 3:\n",
    "                        s_list[index_no].remove(p_no)\n",
    "                        print(s_list)\n",
    "                    elif check == 4:\n",
    "                        s_list.remove(delete)\n",
    "                        print(s_list)\n",
    "                    else:\n",
    "                        print(\"\\nInvalid entry\")\n",
    "                else:\n",
    "                    print(\"\\nThis data is not present in list.\")\n",
    "            elif number == 4:\n",
    "                print(\"\\nAll students info is here:\")\n",
    "                print(s_list)\n",
    "        \n",
    "            else:\n",
    "                print(\"\\nwrong entry!\")\n",
    "            break \n",
    "    \n",
    "    \n",
    "    elif choose == 2:\n",
    "        print(\"\\nYou have successfully exited\")\n",
    "        break\n",
    "    \n",
    "    else:\n",
    "        print(\"\\nInvalid Entry\")\n"
   ]
  }
 ],
 "metadata": {
  "kernelspec": {
   "display_name": "Python 3 (ipykernel)",
   "language": "python",
   "name": "python3"
  },
  "language_info": {
   "codemirror_mode": {
    "name": "ipython",
    "version": 3
   },
   "file_extension": ".py",
   "mimetype": "text/x-python",
   "name": "python",
   "nbconvert_exporter": "python",
   "pygments_lexer": "ipython3",
   "version": "3.11.5"
  }
 },
 "nbformat": 4,
 "nbformat_minor": 5
}
